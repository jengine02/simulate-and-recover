{
 "cells": [
  {
   "cell_type": "markdown",
   "metadata": {},
   "source": [
    "Use of Jupyter to debug and write simulation."
   ]
  },
  {
   "cell_type": "code",
   "execution_count": 65,
   "metadata": {},
   "outputs": [],
   "source": [
    "import numpy as np\n",
    "import matplotlib.pyplot as plt\n",
    "from scipy.stats import gamma"
   ]
  },
  {
   "cell_type": "code",
   "execution_count": null,
   "metadata": {},
   "outputs": [],
   "source": [
    "# Temporary Testing Parameters\n",
    "a = 0.5\n",
    "v = 0.5\n",
    "t = 0.1\n",
    "N = 10"
   ]
  },
  {
   "cell_type": "code",
   "execution_count": null,
   "metadata": {},
   "outputs": [
    {
     "name": "stdout",
     "output_type": "stream",
     "text": [
      "Rpred =  0.5621765008857981\n",
      "Mpred =  0.1621765008857981\n",
      "Vpred =  0.0025719208055940295\n"
     ]
    }
   ],
   "source": [
    "# -- Generating 'Predicted' Summary Statistics --\n",
    "y = np.exp(-a * v)\n",
    "\n",
    "# R Predicted\n",
    "Rpred = 1 / (y + 1)\n",
    "print(\"Rpred = \", Rpred)\n",
    "\n",
    "# M Predicted\n",
    "Mpred = t + (a/(2 * v)) * ((1 - y)/(1 + y))\n",
    "print(\"Mpred = \", Mpred)\n",
    "\n",
    "# V Predicted\n",
    "Vpred = (a/(2 * (v**3))) * ((1 - (2 * a * v * y) - (y**2))/((y + 1)**2))\n",
    "print(\"Vpred = \", Vpred)"
   ]
  },
  {
   "cell_type": "code",
   "execution_count": 68,
   "metadata": {},
   "outputs": [
    {
     "name": "stdout",
     "output_type": "stream",
     "text": [
      "Robs =  [2290]\n",
      "Mobs =  [0.16444678]\n",
      "Vobs =  [0.00269744]\n"
     ]
    }
   ],
   "source": [
    "# -- Simulating 'Observed' Summary Statistics --\n",
    "# Use of ChatGPT to help with use of numpy\n",
    "\n",
    "num_samples = 1\n",
    "\n",
    "# Simulate Tobs\n",
    "Robs_samples = np.random.binomial(n=N, p=Rpred, size=num_samples)\n",
    "print(\"Robs = \", Robs_samples)\n",
    "\n",
    "# Simulate Mobs\n",
    "variance = Vpred / N\n",
    "std_dev = np.sqrt(variance)\n",
    "Mobs_samples = np.random.normal(loc=Mpred, scale=std_dev, size=num_samples)\n",
    "print(\"Mobs = \", Mobs_samples)\n",
    "\n",
    "# Simulate Vobs\n",
    "alpha = (N - 1) / 2\n",
    "beta = (2 * Vpred) / (N - 1)\n",
    "Vobs_samples = np.random.gamma(shape=alpha, scale=beta, size=num_samples)\n",
    "print(\"Vobs = \", Vobs_samples)"
   ]
  },
  {
   "cell_type": "code",
   "execution_count": null,
   "metadata": {},
   "outputs": [
    {
     "name": "stdout",
     "output_type": "stream",
     "text": [
      "[13.81550956]\n"
     ]
    }
   ],
   "source": [
    "# Samples -> Parameters\n",
    "Robs = Robs_samples\n",
    "Mobs = Mobs_samples\n",
    "Vobs = Vobs_samples\n",
    "\n",
    "# Avoid division by zero or log(0)\n",
    "eps = 1e-12\n",
    "R_obs_clipped = np.clip(Robs, 1e-6, 1 - 1e-6)\n",
    "L = np.log((R_obs_clipped) / (1 - R_obs_clipped))\n",
    "print(L)"
   ]
  },
  {
   "cell_type": "code",
   "execution_count": null,
   "metadata": {},
   "outputs": [
    {
     "name": "stdout",
     "output_type": "stream",
     "text": [
      "Estimated Drift Rate =  [7.11365668] \n",
      "Estimated Boundary Separation =  [1.94211081] \n",
      "Estimated Nondecision Time =  [0.02794125]\n"
     ]
    }
   ],
   "source": [
    "# -- Calculate 'Estimated' Parameters --\n",
    "# Debugged using ChatGPT\n",
    "\n",
    "# Drift Rate\n",
    "sgn = np.sign(Robs - 0.5)\n",
    "numerator = L * (R_obs_clipped**2 * L - R_obs_clipped * L + R_obs_clipped - 0.5)\n",
    "vest_inner = numerator / (Vobs + eps)\n",
    "\n",
    "# Avoid NaNs by forcing non-negative input to root\n",
    "v_est = sgn * np.abs(vest_inner)**(1/4)\n",
    "\n",
    "\n",
    "# Boundary Separation\n",
    "a_est = L / v_est\n",
    "\n",
    "\n",
    "# Nondecision Time\n",
    "term = (1 - np.exp(-v_est * a_est)) / (1 + np.exp(-v_est * a_est) + eps)\n",
    "t_est = Mobs - (a_est / (2 * v_est + eps)) * term\n",
    "\n",
    "\n",
    "print(\n",
    "    \"Estimated Drift Rate = \", v_est,\n",
    "    \"\\nEstimated Boundary Separation = \", a_est,\n",
    "    \"\\nEstimated Nondecision Time = \", t_est\n",
    ")"
   ]
  },
  {
   "cell_type": "code",
   "execution_count": 71,
   "metadata": {},
   "outputs": [
    {
     "name": "stdout",
     "output_type": "stream",
     "text": [
      "Bias (b): [[-6.61365668]\n",
      " [-1.44211081]\n",
      " [ 0.07205875]]\n",
      "Squared Error (b^2): [[4.37404546e+01]\n",
      " [2.07968360e+00]\n",
      " [5.19246387e-03]]\n"
     ]
    }
   ],
   "source": [
    "# -- Calculate Estimation Bias --\n",
    "\n",
    "# Compute bias vector\n",
    "b = np.array([v - v_est, a - a_est, t - t_est])\n",
    "\n",
    "# Compute squared error (element-wise)\n",
    "b_squared = b ** 2\n",
    "\n",
    "print(\"Bias (b):\", b)\n",
    "print(\"Squared Error (b^2):\", b_squared)"
   ]
  }
 ],
 "metadata": {
  "kernelspec": {
   "display_name": ".venv",
   "language": "python",
   "name": "python3"
  },
  "language_info": {
   "codemirror_mode": {
    "name": "ipython",
    "version": 3
   },
   "file_extension": ".py",
   "mimetype": "text/x-python",
   "name": "python",
   "nbconvert_exporter": "python",
   "pygments_lexer": "ipython3",
   "version": "3.13.2"
  }
 },
 "nbformat": 4,
 "nbformat_minor": 2
}
